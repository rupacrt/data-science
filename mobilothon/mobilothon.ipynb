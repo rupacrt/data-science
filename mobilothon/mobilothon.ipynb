{
 "cells": [
  {
   "cell_type": "code",
   "execution_count": 1,
   "id": "500478a3",
   "metadata": {},
   "outputs": [],
   "source": [
    "# Import Required Libraries\n",
    "import pandas as pd\n",
    "import numpy as np\n",
    "from sklearn.model_selection import train_test_split\n",
    "from sklearn.ensemble import RandomForestRegressor\n",
    "from sklearn.metrics import mean_squared_error\n",
    "from sklearn.preprocessing import MinMaxScaler\n",
    "from datetime import datetime\n",
    "import joblib"
   ]
  },
  {
   "cell_type": "code",
   "execution_count": 2,
   "id": "750a60cb",
   "metadata": {},
   "outputs": [
    {
     "name": "stdout",
     "output_type": "stream",
     "text": [
      "Dataset Overview:\n",
      "         ID  Price  Levy Manufacturer    Model  Prod. year   Category  \\\n",
      "0  45654403  13328  1399        LEXUS   RX 450        2010       Jeep   \n",
      "1  44731507  16621  1018    CHEVROLET  Equinox        2011       Jeep   \n",
      "2  45774419   8467     -        HONDA      FIT        2006  Hatchback   \n",
      "3  45769185   3607   862         FORD   Escape        2011       Jeep   \n",
      "4  45809263  11726   446        HONDA      FIT        2014  Hatchback   \n",
      "\n",
      "  Leather interior Fuel type Engine volume    Mileage  Cylinders  \\\n",
      "0              Yes    Hybrid           3.5  186005 km        6.0   \n",
      "1               No    Petrol             3  192000 km        6.0   \n",
      "2               No    Petrol           1.3  200000 km        4.0   \n",
      "3              Yes    Hybrid           2.5  168966 km        4.0   \n",
      "4              Yes    Petrol           1.3   91901 km        4.0   \n",
      "\n",
      "  Gear box type Drive wheels   Doors             Wheel   Color  Airbags  \n",
      "0     Automatic          4x4  04-May        Left wheel  Silver       12  \n",
      "1     Tiptronic          4x4  04-May        Left wheel   Black        8  \n",
      "2      Variator        Front  04-May  Right-hand drive   Black        2  \n",
      "3     Automatic          4x4  04-May        Left wheel   White        0  \n",
      "4     Automatic        Front  04-May        Left wheel  Silver        4  \n"
     ]
    }
   ],
   "source": [
    "# Step 1: Load the Dataset\n",
    "# Replace 'car_prices.csv' with your dataset file\n",
    "data = pd.read_csv('C:\\\\Users\\\\HI\\\\OneDrive\\\\Desktop\\\\i.mobilothon\\\\train.csv')\n",
    "\n",
    "# Display basic info about the dataset\n",
    "print(\"Dataset Overview:\")\n",
    "print(data.head())"
   ]
  },
  {
   "cell_type": "code",
   "execution_count": 3,
   "id": "f70b4a9e",
   "metadata": {},
   "outputs": [
    {
     "name": "stdout",
     "output_type": "stream",
     "text": [
      "<class 'pandas.core.frame.DataFrame'>\n",
      "RangeIndex: 19237 entries, 0 to 19236\n",
      "Data columns (total 18 columns):\n",
      " #   Column            Non-Null Count  Dtype  \n",
      "---  ------            --------------  -----  \n",
      " 0   ID                19237 non-null  int64  \n",
      " 1   Price             19237 non-null  int64  \n",
      " 2   Levy              19237 non-null  object \n",
      " 3   Manufacturer      19237 non-null  object \n",
      " 4   Model             19237 non-null  object \n",
      " 5   Prod. year        19237 non-null  int64  \n",
      " 6   Category          19237 non-null  object \n",
      " 7   Leather interior  19237 non-null  object \n",
      " 8   Fuel type         19237 non-null  object \n",
      " 9   Engine volume     19237 non-null  object \n",
      " 10  Mileage           19237 non-null  object \n",
      " 11  Cylinders         19237 non-null  float64\n",
      " 12  Gear box type     19237 non-null  object \n",
      " 13  Drive wheels      19237 non-null  object \n",
      " 14  Doors             19237 non-null  object \n",
      " 15  Wheel             19237 non-null  object \n",
      " 16  Color             19237 non-null  object \n",
      " 17  Airbags           19237 non-null  int64  \n",
      "dtypes: float64(1), int64(4), object(13)\n",
      "memory usage: 2.6+ MB\n"
     ]
    }
   ],
   "source": [
    "#To get the dataset information\n",
    "data.info()"
   ]
  },
  {
   "cell_type": "code",
   "execution_count": 4,
   "id": "207ae1d7",
   "metadata": {},
   "outputs": [
    {
     "data": {
      "text/plain": [
       "(19237, 18)"
      ]
     },
     "execution_count": 4,
     "metadata": {},
     "output_type": "execute_result"
    }
   ],
   "source": [
    "data.shape"
   ]
  },
  {
   "cell_type": "code",
   "execution_count": 5,
   "id": "d95fa179",
   "metadata": {},
   "outputs": [
    {
     "data": {
      "text/html": [
       "<div>\n",
       "<style scoped>\n",
       "    .dataframe tbody tr th:only-of-type {\n",
       "        vertical-align: middle;\n",
       "    }\n",
       "\n",
       "    .dataframe tbody tr th {\n",
       "        vertical-align: top;\n",
       "    }\n",
       "\n",
       "    .dataframe thead th {\n",
       "        text-align: right;\n",
       "    }\n",
       "</style>\n",
       "<table border=\"1\" class=\"dataframe\">\n",
       "  <thead>\n",
       "    <tr style=\"text-align: right;\">\n",
       "      <th></th>\n",
       "      <th>ID</th>\n",
       "      <th>Price</th>\n",
       "      <th>Levy</th>\n",
       "      <th>Manufacturer</th>\n",
       "      <th>Model</th>\n",
       "      <th>Prod. year</th>\n",
       "      <th>Category</th>\n",
       "      <th>Leather interior</th>\n",
       "      <th>Fuel type</th>\n",
       "      <th>Engine volume</th>\n",
       "      <th>Mileage</th>\n",
       "      <th>Cylinders</th>\n",
       "      <th>Gear box type</th>\n",
       "      <th>Drive wheels</th>\n",
       "      <th>Doors</th>\n",
       "      <th>Wheel</th>\n",
       "      <th>Color</th>\n",
       "      <th>Airbags</th>\n",
       "    </tr>\n",
       "  </thead>\n",
       "  <tbody>\n",
       "    <tr>\n",
       "      <th>1</th>\n",
       "      <td>44731507</td>\n",
       "      <td>16621</td>\n",
       "      <td>1018</td>\n",
       "      <td>CHEVROLET</td>\n",
       "      <td>Equinox</td>\n",
       "      <td>2011</td>\n",
       "      <td>Jeep</td>\n",
       "      <td>No</td>\n",
       "      <td>Petrol</td>\n",
       "      <td>3</td>\n",
       "      <td>192000 km</td>\n",
       "      <td>6.0</td>\n",
       "      <td>Tiptronic</td>\n",
       "      <td>4x4</td>\n",
       "      <td>04-May</td>\n",
       "      <td>Left wheel</td>\n",
       "      <td>Black</td>\n",
       "      <td>8</td>\n",
       "    </tr>\n",
       "    <tr>\n",
       "      <th>20</th>\n",
       "      <td>45801686</td>\n",
       "      <td>18826</td>\n",
       "      <td>531</td>\n",
       "      <td>HYUNDAI</td>\n",
       "      <td>Elantra</td>\n",
       "      <td>2012</td>\n",
       "      <td>Sedan</td>\n",
       "      <td>Yes</td>\n",
       "      <td>Petrol</td>\n",
       "      <td>1.6</td>\n",
       "      <td>112645 km</td>\n",
       "      <td>4.0</td>\n",
       "      <td>Automatic</td>\n",
       "      <td>Front</td>\n",
       "      <td>04-May</td>\n",
       "      <td>Left wheel</td>\n",
       "      <td>Silver</td>\n",
       "      <td>4</td>\n",
       "    </tr>\n",
       "    <tr>\n",
       "      <th>32</th>\n",
       "      <td>45790136</td>\n",
       "      <td>6899</td>\n",
       "      <td>-</td>\n",
       "      <td>BMW</td>\n",
       "      <td>X5</td>\n",
       "      <td>2000</td>\n",
       "      <td>Jeep</td>\n",
       "      <td>Yes</td>\n",
       "      <td>CNG</td>\n",
       "      <td>4.4</td>\n",
       "      <td>200000 km</td>\n",
       "      <td>8.0</td>\n",
       "      <td>Automatic</td>\n",
       "      <td>4x4</td>\n",
       "      <td>04-May</td>\n",
       "      <td>Left wheel</td>\n",
       "      <td>Silver</td>\n",
       "      <td>6</td>\n",
       "    </tr>\n",
       "    <tr>\n",
       "      <th>85</th>\n",
       "      <td>45801684</td>\n",
       "      <td>19121</td>\n",
       "      <td>531</td>\n",
       "      <td>HYUNDAI</td>\n",
       "      <td>Elantra</td>\n",
       "      <td>2012</td>\n",
       "      <td>Sedan</td>\n",
       "      <td>Yes</td>\n",
       "      <td>Petrol</td>\n",
       "      <td>1.6</td>\n",
       "      <td>121362 km</td>\n",
       "      <td>4.0</td>\n",
       "      <td>Automatic</td>\n",
       "      <td>Front</td>\n",
       "      <td>04-May</td>\n",
       "      <td>Left wheel</td>\n",
       "      <td>Black</td>\n",
       "      <td>4</td>\n",
       "    </tr>\n",
       "    <tr>\n",
       "      <th>86</th>\n",
       "      <td>45732386</td>\n",
       "      <td>36065</td>\n",
       "      <td>639</td>\n",
       "      <td>HYUNDAI</td>\n",
       "      <td>Santa FE</td>\n",
       "      <td>2014</td>\n",
       "      <td>Jeep</td>\n",
       "      <td>Yes</td>\n",
       "      <td>Diesel</td>\n",
       "      <td>2</td>\n",
       "      <td>69191 km</td>\n",
       "      <td>4.0</td>\n",
       "      <td>Automatic</td>\n",
       "      <td>Front</td>\n",
       "      <td>04-May</td>\n",
       "      <td>Left wheel</td>\n",
       "      <td>White</td>\n",
       "      <td>4</td>\n",
       "    </tr>\n",
       "    <tr>\n",
       "      <th>...</th>\n",
       "      <td>...</td>\n",
       "      <td>...</td>\n",
       "      <td>...</td>\n",
       "      <td>...</td>\n",
       "      <td>...</td>\n",
       "      <td>...</td>\n",
       "      <td>...</td>\n",
       "      <td>...</td>\n",
       "      <td>...</td>\n",
       "      <td>...</td>\n",
       "      <td>...</td>\n",
       "      <td>...</td>\n",
       "      <td>...</td>\n",
       "      <td>...</td>\n",
       "      <td>...</td>\n",
       "      <td>...</td>\n",
       "      <td>...</td>\n",
       "      <td>...</td>\n",
       "    </tr>\n",
       "    <tr>\n",
       "      <th>17001</th>\n",
       "      <td>45815366</td>\n",
       "      <td>23521</td>\n",
       "      <td>-</td>\n",
       "      <td>FORD</td>\n",
       "      <td>Transit</td>\n",
       "      <td>1996</td>\n",
       "      <td>Microbus</td>\n",
       "      <td>No</td>\n",
       "      <td>Diesel</td>\n",
       "      <td>2.5</td>\n",
       "      <td>123000 km</td>\n",
       "      <td>4.0</td>\n",
       "      <td>Manual</td>\n",
       "      <td>Rear</td>\n",
       "      <td>04-May</td>\n",
       "      <td>Left wheel</td>\n",
       "      <td>White</td>\n",
       "      <td>2</td>\n",
       "    </tr>\n",
       "    <tr>\n",
       "      <th>17204</th>\n",
       "      <td>45815361</td>\n",
       "      <td>14113</td>\n",
       "      <td>-</td>\n",
       "      <td>TOYOTA</td>\n",
       "      <td>Aqua</td>\n",
       "      <td>2013</td>\n",
       "      <td>Hatchback</td>\n",
       "      <td>No</td>\n",
       "      <td>Hybrid</td>\n",
       "      <td>1.5</td>\n",
       "      <td>100000 km</td>\n",
       "      <td>4.0</td>\n",
       "      <td>Variator</td>\n",
       "      <td>Front</td>\n",
       "      <td>04-May</td>\n",
       "      <td>Right-hand drive</td>\n",
       "      <td>White</td>\n",
       "      <td>6</td>\n",
       "    </tr>\n",
       "    <tr>\n",
       "      <th>17428</th>\n",
       "      <td>44754818</td>\n",
       "      <td>11917</td>\n",
       "      <td>-</td>\n",
       "      <td>MERCEDES-BENZ</td>\n",
       "      <td>CLK 320</td>\n",
       "      <td>2003</td>\n",
       "      <td>Sedan</td>\n",
       "      <td>Yes</td>\n",
       "      <td>Petrol</td>\n",
       "      <td>3.2</td>\n",
       "      <td>212000 km</td>\n",
       "      <td>6.0</td>\n",
       "      <td>Automatic</td>\n",
       "      <td>Rear</td>\n",
       "      <td>02-Mar</td>\n",
       "      <td>Left wheel</td>\n",
       "      <td>Pink</td>\n",
       "      <td>8</td>\n",
       "    </tr>\n",
       "    <tr>\n",
       "      <th>17463</th>\n",
       "      <td>45809093</td>\n",
       "      <td>96263</td>\n",
       "      <td>866</td>\n",
       "      <td>FORD</td>\n",
       "      <td>Mustang</td>\n",
       "      <td>2015</td>\n",
       "      <td>Sedan</td>\n",
       "      <td>Yes</td>\n",
       "      <td>Petrol</td>\n",
       "      <td>2.3</td>\n",
       "      <td>43770 km</td>\n",
       "      <td>4.0</td>\n",
       "      <td>Automatic</td>\n",
       "      <td>Front</td>\n",
       "      <td>04-May</td>\n",
       "      <td>Left wheel</td>\n",
       "      <td>White</td>\n",
       "      <td>4</td>\n",
       "    </tr>\n",
       "    <tr>\n",
       "      <th>17792</th>\n",
       "      <td>45815379</td>\n",
       "      <td>3763</td>\n",
       "      <td>891</td>\n",
       "      <td>LEXUS</td>\n",
       "      <td>IS 200</td>\n",
       "      <td>2016</td>\n",
       "      <td>Sedan</td>\n",
       "      <td>Yes</td>\n",
       "      <td>Petrol</td>\n",
       "      <td>2</td>\n",
       "      <td>58328 km</td>\n",
       "      <td>4.0</td>\n",
       "      <td>Automatic</td>\n",
       "      <td>Rear</td>\n",
       "      <td>04-May</td>\n",
       "      <td>Left wheel</td>\n",
       "      <td>White</td>\n",
       "      <td>12</td>\n",
       "    </tr>\n",
       "  </tbody>\n",
       "</table>\n",
       "<p>313 rows × 18 columns</p>\n",
       "</div>"
      ],
      "text/plain": [
       "             ID  Price  Levy   Manufacturer     Model  Prod. year   Category  \\\n",
       "1      44731507  16621  1018      CHEVROLET   Equinox        2011       Jeep   \n",
       "20     45801686  18826   531        HYUNDAI   Elantra        2012      Sedan   \n",
       "32     45790136   6899     -            BMW        X5        2000       Jeep   \n",
       "85     45801684  19121   531        HYUNDAI   Elantra        2012      Sedan   \n",
       "86     45732386  36065   639        HYUNDAI  Santa FE        2014       Jeep   \n",
       "...         ...    ...   ...            ...       ...         ...        ...   \n",
       "17001  45815366  23521     -           FORD   Transit        1996   Microbus   \n",
       "17204  45815361  14113     -         TOYOTA      Aqua        2013  Hatchback   \n",
       "17428  44754818  11917     -  MERCEDES-BENZ   CLK 320        2003      Sedan   \n",
       "17463  45809093  96263   866           FORD   Mustang        2015      Sedan   \n",
       "17792  45815379   3763   891          LEXUS    IS 200        2016      Sedan   \n",
       "\n",
       "      Leather interior Fuel type Engine volume    Mileage  Cylinders  \\\n",
       "1                   No    Petrol             3  192000 km        6.0   \n",
       "20                 Yes    Petrol           1.6  112645 km        4.0   \n",
       "32                 Yes       CNG           4.4  200000 km        8.0   \n",
       "85                 Yes    Petrol           1.6  121362 km        4.0   \n",
       "86                 Yes    Diesel             2   69191 km        4.0   \n",
       "...                ...       ...           ...        ...        ...   \n",
       "17001               No    Diesel           2.5  123000 km        4.0   \n",
       "17204               No    Hybrid           1.5  100000 km        4.0   \n",
       "17428              Yes    Petrol           3.2  212000 km        6.0   \n",
       "17463              Yes    Petrol           2.3   43770 km        4.0   \n",
       "17792              Yes    Petrol             2   58328 km        4.0   \n",
       "\n",
       "      Gear box type Drive wheels   Doors             Wheel   Color  Airbags  \n",
       "1         Tiptronic          4x4  04-May        Left wheel   Black        8  \n",
       "20        Automatic        Front  04-May        Left wheel  Silver        4  \n",
       "32        Automatic          4x4  04-May        Left wheel  Silver        6  \n",
       "85        Automatic        Front  04-May        Left wheel   Black        4  \n",
       "86        Automatic        Front  04-May        Left wheel   White        4  \n",
       "...             ...          ...     ...               ...     ...      ...  \n",
       "17001        Manual         Rear  04-May        Left wheel   White        2  \n",
       "17204      Variator        Front  04-May  Right-hand drive   White        6  \n",
       "17428     Automatic         Rear  02-Mar        Left wheel    Pink        8  \n",
       "17463     Automatic        Front  04-May        Left wheel   White        4  \n",
       "17792     Automatic         Rear  04-May        Left wheel   White       12  \n",
       "\n",
       "[313 rows x 18 columns]"
      ]
     },
     "execution_count": 5,
     "metadata": {},
     "output_type": "execute_result"
    }
   ],
   "source": [
    "#To find the duplicate values\n",
    "data_dup=data[data.duplicated(keep='last')]\n",
    "data_dup"
   ]
  },
  {
   "cell_type": "code",
   "execution_count": 6,
   "id": "c64b6270",
   "metadata": {},
   "outputs": [
    {
     "data": {
      "text/plain": [
       "(18924, 18)"
      ]
     },
     "execution_count": 6,
     "metadata": {},
     "output_type": "execute_result"
    }
   ],
   "source": [
    "#to drop the duplicate values\n",
    "data=data.drop_duplicates()\n",
    "\n",
    "data.shape"
   ]
  },
  {
   "cell_type": "code",
   "execution_count": 7,
   "id": "8032ba1a",
   "metadata": {},
   "outputs": [],
   "source": [
    "#to reset the index\n",
    "data=data.reset_index(drop=True)\n",
    "data_Bk2=data.copy()"
   ]
  },
  {
   "cell_type": "code",
   "execution_count": 8,
   "id": "9625f2d1",
   "metadata": {},
   "outputs": [
    {
     "name": "stdout",
     "output_type": "stream",
     "text": [
      "<class 'pandas.core.frame.DataFrame'>\n",
      "RangeIndex: 18924 entries, 0 to 18923\n",
      "Data columns (total 18 columns):\n",
      " #   Column            Non-Null Count  Dtype  \n",
      "---  ------            --------------  -----  \n",
      " 0   ID                18924 non-null  int64  \n",
      " 1   Price             18924 non-null  int64  \n",
      " 2   Levy              18924 non-null  object \n",
      " 3   Manufacturer      18924 non-null  object \n",
      " 4   Model             18924 non-null  object \n",
      " 5   Prod. year        18924 non-null  int64  \n",
      " 6   Category          18924 non-null  object \n",
      " 7   Leather interior  18924 non-null  object \n",
      " 8   Fuel type         18924 non-null  object \n",
      " 9   Engine volume     18924 non-null  object \n",
      " 10  Mileage           18924 non-null  object \n",
      " 11  Cylinders         18924 non-null  float64\n",
      " 12  Gear box type     18924 non-null  object \n",
      " 13  Drive wheels      18924 non-null  object \n",
      " 14  Doors             18924 non-null  object \n",
      " 15  Wheel             18924 non-null  object \n",
      " 16  Color             18924 non-null  object \n",
      " 17  Airbags           18924 non-null  int64  \n",
      "dtypes: float64(1), int64(4), object(13)\n",
      "memory usage: 2.6+ MB\n"
     ]
    }
   ],
   "source": [
    "data.info()"
   ]
  },
  {
   "cell_type": "code",
   "execution_count": 9,
   "id": "764c07ba",
   "metadata": {},
   "outputs": [
    {
     "data": {
      "text/plain": [
       "ID                  18924\n",
       "Price                2315\n",
       "Levy                  559\n",
       "Manufacturer           65\n",
       "Model                1590\n",
       "Prod. year             54\n",
       "Category               11\n",
       "Leather interior        2\n",
       "Fuel type               7\n",
       "Engine volume         107\n",
       "Mileage              7687\n",
       "Cylinders              13\n",
       "Gear box type           4\n",
       "Drive wheels            3\n",
       "Doors                   3\n",
       "Wheel                   2\n",
       "Color                  16\n",
       "Airbags                17\n",
       "dtype: int64"
      ]
     },
     "execution_count": 9,
     "metadata": {},
     "output_type": "execute_result"
    }
   ],
   "source": [
    "data.nunique()"
   ]
  },
  {
   "cell_type": "code",
   "execution_count": 10,
   "id": "119a2986",
   "metadata": {},
   "outputs": [
    {
     "data": {
      "text/plain": [
       "ID                  0\n",
       "Price               0\n",
       "Levy                0\n",
       "Manufacturer        0\n",
       "Model               0\n",
       "Prod. year          0\n",
       "Category            0\n",
       "Leather interior    0\n",
       "Fuel type           0\n",
       "Engine volume       0\n",
       "Mileage             0\n",
       "Cylinders           0\n",
       "Gear box type       0\n",
       "Drive wheels        0\n",
       "Doors               0\n",
       "Wheel               0\n",
       "Color               0\n",
       "Airbags             0\n",
       "dtype: int64"
      ]
     },
     "execution_count": 10,
     "metadata": {},
     "output_type": "execute_result"
    }
   ],
   "source": [
    "data.isnull().sum()"
   ]
  },
  {
   "cell_type": "code",
   "execution_count": 11,
   "id": "5f2df3e7",
   "metadata": {},
   "outputs": [
    {
     "data": {
      "text/plain": [
       "HYUNDAI          3729\n",
       "TOYOTA           3606\n",
       "MERCEDES-BENZ    2043\n",
       "FORD             1088\n",
       "CHEVROLET        1047\n",
       "                 ... \n",
       "TESLA               1\n",
       "PONTIAC             1\n",
       "SATURN              1\n",
       "ASTON MARTIN        1\n",
       "GREATWALL           1\n",
       "Name: Manufacturer, Length: 65, dtype: int64"
      ]
     },
     "execution_count": 11,
     "metadata": {},
     "output_type": "execute_result"
    }
   ],
   "source": [
    "data['Manufacturer'].value_counts()"
   ]
  },
  {
   "cell_type": "code",
   "execution_count": 12,
   "id": "8566aa6f",
   "metadata": {},
   "outputs": [
    {
     "data": {
      "text/plain": [
       "Sedan          8600\n",
       "Jeep           5378\n",
       "Hatchback      2799\n",
       "Minivan         633\n",
       "Coupe           528\n",
       "Universal       361\n",
       "Microbus        299\n",
       "Goods wagon     229\n",
       "Pickup           51\n",
       "Cabriolet        35\n",
       "Limousine        11\n",
       "Name: Category, dtype: int64"
      ]
     },
     "execution_count": 12,
     "metadata": {},
     "output_type": "execute_result"
    }
   ],
   "source": [
    "data['Category'].value_counts()"
   ]
  },
  {
   "cell_type": "code",
   "execution_count": 13,
   "id": "e486f750",
   "metadata": {},
   "outputs": [
    {
     "data": {
      "text/plain": [
       "Yes    13731\n",
       "No      5193\n",
       "Name: Leather interior, dtype: int64"
      ]
     },
     "execution_count": 13,
     "metadata": {},
     "output_type": "execute_result"
    }
   ],
   "source": [
    "data['Leather interior'].value_counts()"
   ]
  },
  {
   "cell_type": "code",
   "execution_count": 14,
   "id": "691f4847",
   "metadata": {},
   "outputs": [
    {
     "data": {
      "text/plain": [
       "Petrol            9944\n",
       "Diesel            4001\n",
       "Hybrid            3539\n",
       "LPG                885\n",
       "CNG                469\n",
       "Plug-in Hybrid      85\n",
       "Hydrogen             1\n",
       "Name: Fuel type, dtype: int64"
      ]
     },
     "execution_count": 14,
     "metadata": {},
     "output_type": "execute_result"
    }
   ],
   "source": [
    "data['Fuel type'].value_counts()"
   ]
  },
  {
   "cell_type": "code",
   "execution_count": 15,
   "id": "27fec8a7",
   "metadata": {},
   "outputs": [
    {
     "data": {
      "text/plain": [
       "Automatic    13282\n",
       "Tiptronic     3065\n",
       "Manual        1844\n",
       "Variator       733\n",
       "Name: Gear box type, dtype: int64"
      ]
     },
     "execution_count": 15,
     "metadata": {},
     "output_type": "execute_result"
    }
   ],
   "source": [
    "data['Gear box type'].value_counts()"
   ]
  },
  {
   "cell_type": "code",
   "execution_count": 16,
   "id": "d3aba1dc",
   "metadata": {},
   "outputs": [
    {
     "data": {
      "text/plain": [
       "Front    12695\n",
       "4x4       3969\n",
       "Rear      2260\n",
       "Name: Drive wheels, dtype: int64"
      ]
     },
     "execution_count": 16,
     "metadata": {},
     "output_type": "execute_result"
    }
   ],
   "source": [
    "data['Drive wheels'].value_counts()"
   ]
  },
  {
   "cell_type": "code",
   "execution_count": 17,
   "id": "c4ca765f",
   "metadata": {},
   "outputs": [
    {
     "data": {
      "text/plain": [
       "Left wheel          17471\n",
       "Right-hand drive     1453\n",
       "Name: Wheel, dtype: int64"
      ]
     },
     "execution_count": 17,
     "metadata": {},
     "output_type": "execute_result"
    }
   ],
   "source": [
    "data['Wheel'].value_counts()"
   ]
  },
  {
   "cell_type": "code",
   "execution_count": 18,
   "id": "e6c216ab",
   "metadata": {},
   "outputs": [
    {
     "data": {
      "text/plain": [
       "Black            4944\n",
       "White            4407\n",
       "Silver           3729\n",
       "Grey             2343\n",
       "Blue             1376\n",
       "Red               622\n",
       "Green             321\n",
       "Orange            252\n",
       "Brown             185\n",
       "Carnelian red     177\n",
       "Golden            143\n",
       "Beige             134\n",
       "Sky blue          122\n",
       "Yellow            105\n",
       "Purple             39\n",
       "Pink               25\n",
       "Name: Color, dtype: int64"
      ]
     },
     "execution_count": 18,
     "metadata": {},
     "output_type": "execute_result"
    }
   ],
   "source": [
    "data['Color'].value_counts()"
   ]
  },
  {
   "cell_type": "code",
   "execution_count": 19,
   "id": "c3434938",
   "metadata": {},
   "outputs": [],
   "source": [
    "from sklearn.preprocessing import LabelEncoder\n",
    "LE=LabelEncoder()\n",
    "data['Leather interior']=LE.fit_transform(data['Leather interior'])\n",
    "data['Fuel type']=LE.fit_transform(data['Fuel type'])\n",
    "data['Gear box type']=LE.fit_transform(data['Gear box type'])\n",
    "data['Drive wheels']=LE.fit_transform(data['Drive wheels'])\n",
    "data['Wheel']=LE.fit_transform(data['Wheel'])\n",
    "data['Color']=LE.fit_transform(data['Color'])"
   ]
  },
  {
   "cell_type": "code",
   "execution_count": 20,
   "id": "3ebfe0b3",
   "metadata": {},
   "outputs": [
    {
     "data": {
      "text/html": [
       "<div>\n",
       "<style scoped>\n",
       "    .dataframe tbody tr th:only-of-type {\n",
       "        vertical-align: middle;\n",
       "    }\n",
       "\n",
       "    .dataframe tbody tr th {\n",
       "        vertical-align: top;\n",
       "    }\n",
       "\n",
       "    .dataframe thead th {\n",
       "        text-align: right;\n",
       "    }\n",
       "</style>\n",
       "<table border=\"1\" class=\"dataframe\">\n",
       "  <thead>\n",
       "    <tr style=\"text-align: right;\">\n",
       "      <th></th>\n",
       "      <th>ID</th>\n",
       "      <th>Price</th>\n",
       "      <th>Levy</th>\n",
       "      <th>Manufacturer</th>\n",
       "      <th>Model</th>\n",
       "      <th>Prod. year</th>\n",
       "      <th>Category</th>\n",
       "      <th>Leather interior</th>\n",
       "      <th>Fuel type</th>\n",
       "      <th>Engine volume</th>\n",
       "      <th>Mileage</th>\n",
       "      <th>Cylinders</th>\n",
       "      <th>Gear box type</th>\n",
       "      <th>Drive wheels</th>\n",
       "      <th>Doors</th>\n",
       "      <th>Wheel</th>\n",
       "      <th>Color</th>\n",
       "      <th>Airbags</th>\n",
       "    </tr>\n",
       "  </thead>\n",
       "  <tbody>\n",
       "    <tr>\n",
       "      <th>0</th>\n",
       "      <td>45654403</td>\n",
       "      <td>13328</td>\n",
       "      <td>1399</td>\n",
       "      <td>LEXUS</td>\n",
       "      <td>RX 450</td>\n",
       "      <td>2010</td>\n",
       "      <td>Jeep</td>\n",
       "      <td>1</td>\n",
       "      <td>2</td>\n",
       "      <td>3.5</td>\n",
       "      <td>186005 km</td>\n",
       "      <td>6.0</td>\n",
       "      <td>0</td>\n",
       "      <td>0</td>\n",
       "      <td>04-May</td>\n",
       "      <td>0</td>\n",
       "      <td>12</td>\n",
       "      <td>12</td>\n",
       "    </tr>\n",
       "    <tr>\n",
       "      <th>1</th>\n",
       "      <td>44731507</td>\n",
       "      <td>16621</td>\n",
       "      <td>1018</td>\n",
       "      <td>CHEVROLET</td>\n",
       "      <td>Equinox</td>\n",
       "      <td>2011</td>\n",
       "      <td>Jeep</td>\n",
       "      <td>0</td>\n",
       "      <td>5</td>\n",
       "      <td>3</td>\n",
       "      <td>192000 km</td>\n",
       "      <td>6.0</td>\n",
       "      <td>2</td>\n",
       "      <td>0</td>\n",
       "      <td>04-May</td>\n",
       "      <td>0</td>\n",
       "      <td>1</td>\n",
       "      <td>8</td>\n",
       "    </tr>\n",
       "    <tr>\n",
       "      <th>2</th>\n",
       "      <td>45774419</td>\n",
       "      <td>8467</td>\n",
       "      <td>-</td>\n",
       "      <td>HONDA</td>\n",
       "      <td>FIT</td>\n",
       "      <td>2006</td>\n",
       "      <td>Hatchback</td>\n",
       "      <td>0</td>\n",
       "      <td>5</td>\n",
       "      <td>1.3</td>\n",
       "      <td>200000 km</td>\n",
       "      <td>4.0</td>\n",
       "      <td>3</td>\n",
       "      <td>1</td>\n",
       "      <td>04-May</td>\n",
       "      <td>1</td>\n",
       "      <td>1</td>\n",
       "      <td>2</td>\n",
       "    </tr>\n",
       "    <tr>\n",
       "      <th>3</th>\n",
       "      <td>45769185</td>\n",
       "      <td>3607</td>\n",
       "      <td>862</td>\n",
       "      <td>FORD</td>\n",
       "      <td>Escape</td>\n",
       "      <td>2011</td>\n",
       "      <td>Jeep</td>\n",
       "      <td>1</td>\n",
       "      <td>2</td>\n",
       "      <td>2.5</td>\n",
       "      <td>168966 km</td>\n",
       "      <td>4.0</td>\n",
       "      <td>0</td>\n",
       "      <td>0</td>\n",
       "      <td>04-May</td>\n",
       "      <td>0</td>\n",
       "      <td>14</td>\n",
       "      <td>0</td>\n",
       "    </tr>\n",
       "    <tr>\n",
       "      <th>4</th>\n",
       "      <td>45809263</td>\n",
       "      <td>11726</td>\n",
       "      <td>446</td>\n",
       "      <td>HONDA</td>\n",
       "      <td>FIT</td>\n",
       "      <td>2014</td>\n",
       "      <td>Hatchback</td>\n",
       "      <td>1</td>\n",
       "      <td>5</td>\n",
       "      <td>1.3</td>\n",
       "      <td>91901 km</td>\n",
       "      <td>4.0</td>\n",
       "      <td>0</td>\n",
       "      <td>1</td>\n",
       "      <td>04-May</td>\n",
       "      <td>0</td>\n",
       "      <td>12</td>\n",
       "      <td>4</td>\n",
       "    </tr>\n",
       "  </tbody>\n",
       "</table>\n",
       "</div>"
      ],
      "text/plain": [
       "         ID  Price  Levy Manufacturer    Model  Prod. year   Category  \\\n",
       "0  45654403  13328  1399        LEXUS   RX 450        2010       Jeep   \n",
       "1  44731507  16621  1018    CHEVROLET  Equinox        2011       Jeep   \n",
       "2  45774419   8467     -        HONDA      FIT        2006  Hatchback   \n",
       "3  45769185   3607   862         FORD   Escape        2011       Jeep   \n",
       "4  45809263  11726   446        HONDA      FIT        2014  Hatchback   \n",
       "\n",
       "   Leather interior  Fuel type Engine volume    Mileage  Cylinders  \\\n",
       "0                 1          2           3.5  186005 km        6.0   \n",
       "1                 0          5             3  192000 km        6.0   \n",
       "2                 0          5           1.3  200000 km        4.0   \n",
       "3                 1          2           2.5  168966 km        4.0   \n",
       "4                 1          5           1.3   91901 km        4.0   \n",
       "\n",
       "   Gear box type  Drive wheels   Doors  Wheel  Color  Airbags  \n",
       "0              0             0  04-May      0     12       12  \n",
       "1              2             0  04-May      0      1        8  \n",
       "2              3             1  04-May      1      1        2  \n",
       "3              0             0  04-May      0     14        0  \n",
       "4              0             1  04-May      0     12        4  "
      ]
     },
     "execution_count": 20,
     "metadata": {},
     "output_type": "execute_result"
    }
   ],
   "source": [
    "data.head()"
   ]
  },
  {
   "cell_type": "code",
   "execution_count": 21,
   "id": "7e110c7a",
   "metadata": {},
   "outputs": [],
   "source": [
    "# Replace '-' with NaN and convert columns to appropriate data types\n",
    "data = data.replace('-', np.nan)\n",
    "\n",
    "# Handle missing values\n",
    "data.fillna(data.median(numeric_only=True), inplace=True)\n",
    "\n",
    "# Convert categorical columns to numeric using one-hot encoding\n",
    "data = pd.get_dummies(data, drop_first=True)\n",
    "\n",
    "# Ensure all columns are numeric\n",
    "data = data.apply(pd.to_numeric, errors='coerce')\n",
    "\n",
    "# Drop rows with any remaining NaN values\n",
    "data.dropna(inplace=True)"
   ]
  },
  {
   "cell_type": "code",
   "execution_count": 22,
   "id": "c084d539",
   "metadata": {},
   "outputs": [
    {
     "name": "stdout",
     "output_type": "stream",
     "text": [
      "Mean Squared Error: 35497163622.42\n",
      "R^2 Score: -101.53\n",
      "Results saved to 'dynamic_pricing_results.csv'.\n",
      "Model saved as 'dynamic_pricing_model.pkl'.\n"
     ]
    }
   ],
   "source": [
    "from sklearn.metrics import mean_squared_error, r2_score \n",
    "X = data.drop(columns=['Price'])\n",
    "y = data['Price']\n",
    "\n",
    "# Split the data into training and testing sets\n",
    "X_train, X_test, y_train, y_test = train_test_split(X, y, test_size=0.2, random_state=42)\n",
    "\n",
    "# Train the Random Forest Regressor\n",
    "model = RandomForestRegressor(n_estimators=100, random_state=42)\n",
    "model.fit(X_train, y_train)\n",
    "\n",
    "# Predict prices on the test set\n",
    "y_pred = model.predict(X_test)\n",
    "\n",
    "# Evaluate the model\n",
    "print(f\"Mean Squared Error: {mean_squared_error(y_test, y_pred):.2f}\")\n",
    "print(f\"R^2 Score: {r2_score(y_test, y_pred):.2f}\")\n",
    "\n",
    "# Function for Dynamic Pricing Adjustment\n",
    "def adjust_price(predicted_price, demand_factor=1.1, competitor_factor=0.95):\n",
    "    \"\"\"\n",
    "    Adjusts predicted prices dynamically based on market demand and competitor pricing.\n",
    "    :param predicted_price: The base predicted price from the model\n",
    "    :param demand_factor: Multiplier for demand surge (default 10% increase)\n",
    "    :param competitor_factor: Multiplier for competitor pricing adjustment (default 5% decrease)\n",
    "    :return: Adjusted price\n",
    "    \"\"\"\n",
    "    adjusted_price = predicted_price * demand_factor * competitor_factor\n",
    "    return adjusted_price\n",
    "\n",
    "# Apply Dynamic Pricing to Predictions\n",
    "adjusted_prices = [adjust_price(price) for price in y_pred]\n",
    "\n",
    "# Create a DataFrame to Compare Results\n",
    "results = pd.DataFrame({\n",
    "    'Original Price': y_test.values,\n",
    "    'Predicted Price': y_pred,\n",
    "    'Adjusted Price': adjusted_prices\n",
    "})\n",
    "\n",
    "# Save Results\n",
    "results.to_csv('dynamic_pricing_results.csv', index=False)\n",
    "print(\"Results saved to 'dynamic_pricing_results.csv'.\")\n",
    "\n",
    "# Save the Model for Future Use\n",
    "import joblib\n",
    "joblib.dump(model, 'dynamic_pricing_model.pkl')\n",
    "print(\"Model saved as 'dynamic_pricing_model.pkl'.\")"
   ]
  },
  {
   "cell_type": "code",
   "execution_count": 23,
   "id": "5002f5ac",
   "metadata": {},
   "outputs": [
    {
     "data": {
      "image/png": "[encoded data removed]",
      "text/plain": [
       "<Figure size 1000x600 with 1 Axes>"
      ]
     },
     "metadata": {},
     "output_type": "display_data"
    }
   ],
   "source": [
    "import matplotlib.pyplot as plt\n",
    "\n",
    "# Plot Actual vs Predicted Prices\n",
    "plt.figure(figsize=(10, 6))\n",
    "plt.scatter(y_test, y_pred, color='blue', alpha=0.6, label='Predicted vs Actual')\n",
    "plt.plot([min(y_test), max(y_test)], [min(y_test), max(y_test)], color='red', linestyle='--', label='Perfect Prediction')\n",
    "plt.xlabel('Actual Prices')\n",
    "plt.ylabel('Predicted Prices')\n",
    "plt.title('Actual vs Predicted Prices')\n",
    "plt.legend()\n",
    "plt.grid(True)\n",
    "plt.show()\n"
   ]
  },
  {
   "cell_type": "code",
   "execution_count": 24,
   "id": "ca79700d",
   "metadata": {},
   "outputs": [
    {
     "data": {
      "image/png": "[encoded data removed]",
      "text/plain": [
       "<Figure size 1000x600 with 1 Axes>"
      ]
     },
     "metadata": {},
     "output_type": "display_data"
    }
   ],
   "source": [
    "# Calculate residuals\n",
    "residuals = y_test - y_pred\n",
    "\n",
    "# Plot distribution of residuals\n",
    "plt.figure(figsize=(10, 6))\n",
    "plt.hist(residuals, bins=30, color='gray', edgecolor='black', alpha=0.7)\n",
    "plt.axvline(x=0, color='red', linestyle='--', label='Zero Residual')\n",
    "plt.xlabel('Residuals')\n",
    "plt.ylabel('Frequency')\n",
    "plt.title('Distribution of Price Residuals')\n",
    "plt.legend()\n",
    "plt.grid(True)\n",
    "plt.show()\n"
   ]
  },
  {
   "cell_type": "code",
   "execution_count": 25,
   "id": "0d774e26",
   "metadata": {},
   "outputs": [
    {
     "data": {
      "image/png": "[encoded data removed]",
      "text/plain": [
       "<Figure size 1000x600 with 1 Axes>"
      ]
     },
     "metadata": {},
     "output_type": "display_data"
    }
   ],
   "source": [
    "# Plot Dynamic Pricing Adjustments\n",
    "plt.figure(figsize=(10, 6))\n",
    "plt.scatter(y_pred, adjusted_prices, color='green', alpha=0.6, label='Adjusted Prices')\n",
    "plt.plot([min(y_pred), max(y_pred)], [min(y_pred), max(y_pred)], color='red', linestyle='--', label='No Adjustment (Original Price)')\n",
    "plt.xlabel('Predicted Prices')\n",
    "plt.ylabel('Adjusted Prices')\n",
    "plt.title('Dynamic Pricing Adjustment')\n",
    "plt.legend()\n",
    "plt.grid(True)\n",
    "plt.show()\n"
   ]
  },
  {
   "cell_type": "code",
   "execution_count": 26,
   "id": "3379623a",
   "metadata": {},
   "outputs": [
    {
     "data": {
      "image/png": "[encoded data removed]",
      "text/plain": [
       "<Figure size 1000x600 with 1 Axes>"
      ]
     },
     "metadata": {},
     "output_type": "display_data"
    }
   ],
   "source": [
    "# Plot distribution of prices before and after dynamic pricing\n",
    "plt.figure(figsize=(10, 6))\n",
    "plt.hist(y_pred, bins=30, color='blue', alpha=0.7, label='Predicted Prices')\n",
    "plt.hist(adjusted_prices, bins=30, color='green', alpha=0.7, label='Adjusted Prices')\n",
    "plt.xlabel('Price')\n",
    "plt.ylabel('Frequency')\n",
    "plt.title('Price Distribution Before and After Dynamic Pricing')\n",
    "plt.legend()\n",
    "plt.grid(True)\n",
    "plt.show()\n"
   ]
  },
  {
   "cell_type": "code",
   "execution_count": 27,
   "id": "bffc7d85",
   "metadata": {},
   "outputs": [
    {
     "data": {
      "image/png": "[encoded data removed]",
      "text/plain": [
       "<Figure size 1000x600 with 1 Axes>"
      ]
     },
     "metadata": {},
     "output_type": "display_data"
    }
   ],
   "source": [
    "# R² vs MSE for Model Evaluation\n",
    "mse = mean_squared_error(y_test, y_pred)\n",
    "r2 = r2_score(y_test, y_pred)\n",
    "\n",
    "# Plot R² vs MSE\n",
    "plt.figure(figsize=(10, 6))\n",
    "metrics = ['R²', 'MSE']\n",
    "values = [r2, mse]\n",
    "plt.bar(metrics, values, color=['blue', 'orange'])\n",
    "plt.title('Model Performance: R² vs MSE')\n",
    "plt.ylabel('Value')\n",
    "plt.show()\n"
   ]
  },
  {
   "cell_type": "code",
   "execution_count": 28,
   "id": "acfa3e66",
   "metadata": {},
   "outputs": [
    {
     "data": {
      "application/vnd.jupyter.widget-view+json": {
       "model_id": "880e14d9632a47a5aa3530fed43ebbe7",
       "version_major": 2,
       "version_minor": 0
      },
      "text/plain": [
       "interactive(children=(IntSlider(value=30000, description='user_price', max=50000, min=10000, step=1000), IntSl…"
      ]
     },
     "metadata": {},
     "output_type": "display_data"
    },
    {
     "data": {
      "text/plain": [
       "<function __main__.plot_dynamic_pricing(user_price, demand, competitor_price, elasticity)>"
      ]
     },
     "execution_count": 28,
     "metadata": {},
     "output_type": "execute_result"
    }
   ],
   "source": [
    "import plotly.graph_objects as go\n",
    "from ipywidgets import interact\n",
    "import numpy as np\n",
    "\n",
    "# Function to adjust price based on the user input (for dynamic pricing)\n",
    "def adjust_price(predicted_price, demand_factor=1.1, competitor_factor=0.95, elasticity=0.8):\n",
    "    \"\"\"\n",
    "    Adjusts the predicted price dynamically based on demand, competitor pricing, and price elasticity.\n",
    "    :param predicted_price: Base predicted price\n",
    "    :param demand_factor: Multiplier based on forecasted demand (e.g., 10% increase)\n",
    "    :param competitor_factor: Multiplier based on competitor prices (e.g., 5% discount)\n",
    "    :param elasticity: Price elasticity of demand factor\n",
    "    :return: Adjusted price\n",
    "    \"\"\"\n",
    "    adjusted_price = predicted_price * demand_factor * competitor_factor * (1 + elasticity)\n",
    "    return adjusted_price\n",
    "\n",
    "# Function to suggest an optimal price based on the input values\n",
    "def suggest_price(user_price, demand, competitor_price, elasticity):\n",
    "    \"\"\"\n",
    "    Suggests an optimal price based on user input for price, demand, and competitor pricing.\n",
    "    :param user_price: The price entered by the user\n",
    "    :param demand: The demand for the product (higher demand may justify a higher price)\n",
    "    :param competitor_price: The price of the competitor for comparison\n",
    "    :param elasticity: Price elasticity of demand\n",
    "    :return: Suggested price based on the model\n",
    "    \"\"\"\n",
    "    demand_factor = 1 + (demand / 100)  # Let's assume demand affects the price by a percentage\n",
    "    competitor_factor = competitor_price / user_price  # Competitive pricing factor\n",
    "    \n",
    "    # Suggest price based on model adjustments\n",
    "    suggested_price = adjust_price(user_price, demand_factor, competitor_factor, elasticity)\n",
    "    \n",
    "    return round(suggested_price)\n",
    "\n",
    "# Interactive plotting function\n",
    "def plot_dynamic_pricing(user_price, demand, competitor_price, elasticity):\n",
    "    \"\"\"\n",
    "    Plot a dynamic comparison of user price and suggested price.\n",
    "    \"\"\"\n",
    "    # Suggest the optimal price\n",
    "    suggested_price = suggest_price(user_price, demand, competitor_price, elasticity)\n",
    "    \n",
    "    # Plot the comparison graph using Plotly\n",
    "    fig = go.Figure()\n",
    "\n",
    "    # Add bars for user price and suggested price\n",
    "    fig.add_trace(go.Bar(\n",
    "        x=['User Price', 'Suggested Price'],\n",
    "        y=[user_price, suggested_price],\n",
    "        marker_color=['blue', 'green'],\n",
    "        text=[f\"${user_price}\", f\"${suggested_price}\"],\n",
    "        textposition='auto'\n",
    "    ))\n",
    "\n",
    "    # Update layout to make it responsive\n",
    "    fig.update_layout(\n",
    "        title=\"Price Comparison: User vs Suggested\",\n",
    "        xaxis_title=\"Pricing Options\",\n",
    "        yaxis_title=\"Price ($)\",\n",
    "        margin=dict(t=40, b=40, l=50, r=50),\n",
    "        autosize=True\n",
    "    )\n",
    "\n",
    "    # Show the figure\n",
    "    fig.show()\n",
    "\n",
    "# Interactive widgets for user input\n",
    "interact(plot_dynamic_pricing,\n",
    "         user_price=(10000, 50000, 1000),   # User price input\n",
    "         demand=(0, 50, 1),                # Demand (percentage increase/decrease)\n",
    "         competitor_price=(10000, 50000, 1000),  # Competitor price input\n",
    "         elasticity=(0, 2, 0.1))           # Elasticity of demand factor\n"
   ]
  },
  {
   "cell_type": "code",
   "execution_count": 29,
   "id": "7a841436",
   "metadata": {},
   "outputs": [
    {
     "name": "stdout",
     "output_type": "stream",
     "text": [
      "          Model  Price  Price Difference\n",
      "0  Competitor_A  25000             -1000\n",
      "1  Competitor_B  22000             -4000\n",
      "2  Competitor_C  27000              1000\n"
     ]
    }
   ],
   "source": [
    "import pandas as pd\n",
    "\n",
    "# Sample Data: Competitor prices and features\n",
    "competitor_data = {\n",
    "    'Model': ['Competitor_A', 'Competitor_B', 'Competitor_C'],\n",
    "    'Price': [25000, 22000, 27000],\n",
    "    'Mileage': [15, 14, 16],  # in km/l\n",
    "    'Year': [2020, 2021, 2022],\n",
    "    'Features': ['Basic', 'Standard', 'Premium']\n",
    "}\n",
    "\n",
    "# Create DataFrame for competitor vehicles\n",
    "competitor_df = pd.DataFrame(competitor_data)\n",
    "\n",
    "# Your vehicle's data\n",
    "your_vehicle = {\n",
    "    'Model': 'Your_Vehicle',\n",
    "    'Price': 26000,\n",
    "    'Mileage': 15,\n",
    "    'Year': 2021,\n",
    "    'Features': 'Standard'\n",
    "}\n",
    "\n",
    "# Function to compare competitor prices\n",
    "def compare_prices(your_price, competitor_df):\n",
    "    competitor_df['Price Difference'] = competitor_df['Price'] - your_price\n",
    "    return competitor_df[['Model', 'Price', 'Price Difference']]\n",
    "\n",
    "# Compare your vehicle price with competitors\n",
    "competitor_comparison = compare_prices(your_vehicle['Price'], competitor_df)\n",
    "\n",
    "print(competitor_comparison)\n"
   ]
  },
  {
   "cell_type": "code",
   "execution_count": 30,
   "id": "3f5e8583",
   "metadata": {},
   "outputs": [
    {
     "name": "stdout",
     "output_type": "stream",
     "text": [
      "Defaulting to user installation because normal site-packages is not writeable\n",
      "Requirement already satisfied: dash in c:\\users\\hi\\appdata\\roaming\\python\\python310\\site-packages (2.18.2)\n",
      "Requirement already satisfied: nest-asyncio in c:\\programdata\\anaconda3\\lib\\site-packages (from dash) (1.5.6)\n",
      "Requirement already satisfied: retrying in c:\\users\\hi\\appdata\\roaming\\python\\python310\\site-packages (from dash) (1.3.4)\n",
      "Requirement already satisfied: typing-extensions>=4.1.1 in c:\\users\\hi\\appdata\\roaming\\python\\python310\\site-packages (from dash) (4.12.2)\n",
      "Requirement already satisfied: dash-table==5.0.0 in c:\\users\\hi\\appdata\\roaming\\python\\python310\\site-packages (from dash) (5.0.0)\n",
      "Requirement already satisfied: importlib-metadata in c:\\programdata\\anaconda3\\lib\\site-packages (from dash) (4.11.3)\n",
      "Requirement already satisfied: requests in c:\\users\\hi\\appdata\\roaming\\python\\python310\\site-packages (from dash) (2.31.0)\n",
      "Requirement already satisfied: plotly>=5.0.0 in c:\\programdata\\anaconda3\\lib\\site-packages (from dash) (5.9.0)\n",
      "Requirement already satisfied: setuptools in c:\\programdata\\anaconda3\\lib\\site-packages (from dash) (65.6.3)\n",
      "Requirement already satisfied: dash-html-components==2.0.0 in c:\\users\\hi\\appdata\\roaming\\python\\python310\\site-packages (from dash) (2.0.0)\n",
      "Requirement already satisfied: Werkzeug<3.1 in c:\\programdata\\anaconda3\\lib\\site-packages (from dash) (2.2.2)\n",
      "Requirement already satisfied: dash-core-components==2.0.0 in c:\\users\\hi\\appdata\\roaming\\python\\python310\\site-packages (from dash) (2.0.0)\n",
      "Requirement already satisfied: Flask<3.1,>=1.0.4 in c:\\programdata\\anaconda3\\lib\\site-packages (from dash) (2.2.2)\n",
      "Requirement already satisfied: click>=8.0 in c:\\programdata\\anaconda3\\lib\\site-packages (from Flask<3.1,>=1.0.4->dash) (8.0.4)\n",
      "Requirement already satisfied: itsdangerous>=2.0 in c:\\programdata\\anaconda3\\lib\\site-packages (from Flask<3.1,>=1.0.4->dash) (2.0.1)\n",
      "Requirement already satisfied: Jinja2>=3.0 in c:\\programdata\\anaconda3\\lib\\site-packages (from Flask<3.1,>=1.0.4->dash) (3.1.2)\n",
      "Requirement already satisfied: tenacity>=6.2.0 in c:\\users\\hi\\appdata\\roaming\\python\\python310\\site-packages (from plotly>=5.0.0->dash) (9.0.0)\n",
      "Requirement already satisfied: MarkupSafe>=2.1.1 in c:\\programdata\\anaconda3\\lib\\site-packages (from Werkzeug<3.1->dash) (2.1.1)\n",
      "Requirement already satisfied: zipp>=0.5 in c:\\programdata\\anaconda3\\lib\\site-packages (from importlib-metadata->dash) (3.11.0)\n",
      "Requirement already satisfied: urllib3<3,>=1.21.1 in c:\\programdata\\anaconda3\\lib\\site-packages (from requests->dash) (1.26.14)\n",
      "Requirement already satisfied: certifi>=2017.4.17 in c:\\programdata\\anaconda3\\lib\\site-packages (from requests->dash) (2022.12.7)\n",
      "Requirement already satisfied: idna<4,>=2.5 in c:\\programdata\\anaconda3\\lib\\site-packages (from requests->dash) (3.4)\n",
      "Requirement already satisfied: charset-normalizer<4,>=2 in c:\\programdata\\anaconda3\\lib\\site-packages (from requests->dash) (2.0.4)\n",
      "Requirement already satisfied: six>=1.7.0 in c:\\programdata\\anaconda3\\lib\\site-packages (from retrying->dash) (1.16.0)\n",
      "Requirement already satisfied: colorama in c:\\programdata\\anaconda3\\lib\\site-packages (from click>=8.0->Flask<3.1,>=1.0.4->dash) (0.4.6)\n",
      "Note: you may need to restart the kernel to use updated packages.\n"
     ]
    }
   ],
   "source": [
    "pip install dash"
   ]
  },
  {
   "cell_type": "code",
   "execution_count": 31,
   "id": "6635a86f",
   "metadata": {},
   "outputs": [
    {
     "data": {
      "text/html": [
       "\n",
       "        <iframe\n",
       "            width=\"100%\"\n",
       "            height=\"650\"\n",
       "            src=\"http://127.0.0.1:8050/\"\n",
       "            frameborder=\"0\"\n",
       "            allowfullscreen\n",
       "            \n",
       "        ></iframe>\n",
       "        "
      ],
      "text/plain": [
       "<IPython.lib.display.IFrame at 0x1bd8b37bc40>"
      ]
     },
     "metadata": {},
     "output_type": "display_data"
    }
   ],
   "source": [
    "import dash\n",
    "from dash import dcc, html, Input, Output\n",
    "import pandas as pd\n",
    "import plotly.graph_objs as go\n",
    "from plotly.subplots import make_subplots\n",
    "\n",
    "# Load the dataset\n",
    "data = {\n",
    "    \"ID\": [0, 1, 2, 3, 4],\n",
    "    \"Price\": [45654403, 44731507, 45774419, 45769185, 45809263],\n",
    "    \"Levy\": [13328, 16621, 8467, 3607, 11726],\n",
    "    \"Manufacturer\": ['LEXUS', 'CHEVROLET', 'HONDA', 'FORD', 'HONDA'],\n",
    "    \"Model\": ['RX 450', 'Equinox', 'FIT', 'Escape', 'FIT'],\n",
    "    \"Prod. year\": [2010, 2011, 2006, 2011, 2014],\n",
    "    \"Category\": ['Jeep', 'Jeep', 'Hatchback', 'Jeep', 'Hatchback'],\n",
    "    \"Leather interior\": [1, 0, 0, 1, 1],\n",
    "    \"Fuel type\": [2, 5, 5, 2, 5],\n",
    "    \"Engine volume\": [3.5, 3, 1.3, 2.5, 1.3],\n",
    "    \"Mileage\": ['186005 km', '192000 km', '200000 km', '168966 km', '91901 km'],\n",
    "    \"Cylinders\": [6.0, 6.0, 4.0, 4.0, 4.0],\n",
    "    \"Gear box type\": [0, 2, 3, 0, 0],\n",
    "    \"Drive wheels\": [0, 0, 1, 0, 1],\n",
    "    \"Doors\": [12, 1, 1, 14, 12],\n",
    "    \"Wheel\": ['04-May'] * 5,\n",
    "    \"Color\": [0, 0, 1, 0, 0],\n",
    "    \"Airbags\": [12, 8, 2, 0, 4]\n",
    "}\n",
    "\n",
    "df = pd.DataFrame(data)\n",
    "\n",
    "# Create Dash App\n",
    "app = dash.Dash(__name__)\n",
    "\n",
    "# Layout for the App\n",
    "app.layout = html.Div([\n",
    "    html.H1(\"Dynamic Vehicle Pricing Tool\"),\n",
    "    \n",
    "    html.Label(\"Select Manufacturer:\"),\n",
    "    dcc.Dropdown(\n",
    "        id='manufacturer-dropdown',\n",
    "        options=[{'label': manufacturer, 'value': manufacturer} for manufacturer in df['Manufacturer'].unique()],\n",
    "        value=df['Manufacturer'].iloc[0]\n",
    "    ),\n",
    "    \n",
    "    html.Label(\"Select Model:\"),\n",
    "    dcc.Dropdown(\n",
    "        id='model-dropdown',\n",
    "        options=[],\n",
    "        value=df['Model'].iloc[0]\n",
    "    ),\n",
    "    \n",
    "    html.Label(\"Select Category:\"),\n",
    "    dcc.Dropdown(\n",
    "        id='category-dropdown',\n",
    "        options=[{'label': category, 'value': category} for category in df['Category'].unique()],\n",
    "        value=df['Category'].iloc[0]\n",
    "    ),\n",
    "    \n",
    "    html.Div(id='dynamic-price', style={'font-size': '20px', 'margin-top': '20px'}),\n",
    "    \n",
    "    dcc.Graph(id='price-comparison-graph')\n",
    "])\n",
    "\n",
    "# Callback to update available models based on Manufacturer selection\n",
    "@app.callback(\n",
    "    Output('model-dropdown', 'options'),\n",
    "    Input('manufacturer-dropdown', 'value')\n",
    ")\n",
    "def update_models(manufacturer):\n",
    "    models = df[df['Manufacturer'] == manufacturer]['Model'].unique()\n",
    "    return [{'label': model, 'value': model} for model in models]\n",
    "\n",
    "# Callback to update dynamic price based on user selections\n",
    "@app.callback(\n",
    "    [Output('dynamic-price', 'children'),\n",
    "     Output('price-comparison-graph', 'figure')],\n",
    "    [Input('manufacturer-dropdown', 'value'),\n",
    "     Input('model-dropdown', 'value'),\n",
    "     Input('category-dropdown', 'value')]\n",
    ")\n",
    "def calculate_dynamic_price(manufacturer, model, category):\n",
    "    # Filter the dataframe based on the selected Manufacturer, Model, and Category\n",
    "    \n",
    "    selected_vehicle = df[(df['Manufacturer'] == manufacturer) & \n",
    "                      (df['Model'] == model) & \n",
    "                      (df['Category'] == category)]\n",
    "\n",
    "    if selected_vehicle.empty:\n",
    "        # Handle the case where no vehicle matches the given manufacturer, model, and category\n",
    "        print(\"No matching vehicle found.\")\n",
    "    else:\n",
    "        selected_vehicle = selected_vehicle.iloc[0]\n",
    "    competitor_df = df[(df['Category'] == category) & (df['Manufacturer'] != manufacturer)]\n",
    "    \n",
    "    # Calculate the average price of competitors\n",
    "    avg_competitor_price = competitor_df['Price'].mean()\n",
    "    \n",
    "    # Calculate dynamic price (based on a simple factor or advanced model)\n",
    "    dynamic_price = avg_competitor_price * 1.1  # Example of adjusting price by 10% higher than competitors\n",
    "    \n",
    "    # Display the dynamic price\n",
    "    dynamic_price_text = f\"Suggested Dynamic Price for {model}: ${round(dynamic_price, 2)}\"\n",
    "    \n",
    "    # Plotting the price comparison\n",
    "    fig = make_subplots(rows=1, cols=1)\n",
    "    fig.add_trace(go.Bar(x=['Your Vehicle', 'Average Competitor'], \n",
    "                         y=[selected_vehicle['Price'], dynamic_price], \n",
    "                         name=\"Price Comparison\"))\n",
    "    fig.update_layout(title=\"Price Comparison\",\n",
    "                      xaxis_title=\"Vehicle\",\n",
    "                      yaxis_title=\"Price (USD)\",\n",
    "                      showlegend=True)\n",
    "    \n",
    "    return dynamic_price_text, fig\n",
    "\n",
    "# Run the app\n",
    "if __name__ == '__main__':\n",
    "    app.run_server(debug=True)\n"
   ]
  },
  {
   "cell_type": "code",
   "execution_count": null,
   "id": "33b74aea",
   "metadata": {},
   "outputs": [],
   "source": []
  }
 ],
 "metadata": {
  "kernelspec": {
   "display_name": "Python 3 (ipykernel)",
   "language": "python",
   "name": "python3"
  },
  "language_info": {
   "codemirror_mode": {
    "name": "ipython",
    "version": 3
   },
   "file_extension": ".py",
   "mimetype": "text/x-python",
   "name": "python",
   "nbconvert_exporter": "python",
   "pygments_lexer": "ipython3",
   "version": "3.10.9"
  }
 },
 "nbformat": 4,
 "nbformat_minor": 5
}
